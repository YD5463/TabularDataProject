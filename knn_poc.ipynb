{
 "cells": [
  {
   "cell_type": "markdown",
   "id": "b9a8059e",
   "metadata": {},
   "source": [
    "## Load Titanic Dataset"
   ]
  },
  {
   "cell_type": "code",
   "execution_count": 1,
   "id": "6ec4f360",
   "metadata": {
    "ExecuteTime": {
     "end_time": "2022-12-12T06:49:33.789803Z",
     "start_time": "2022-12-12T06:49:30.572930Z"
    }
   },
   "outputs": [
    {
     "name": "stderr",
     "output_type": "stream",
     "text": [
      "/Users/yosefdanan/opt/anaconda3/lib/python3.9/site-packages/scipy/__init__.py:146: UserWarning: A NumPy version >=1.16.5 and <1.23.0 is required for this version of SciPy (detected version 1.23.5\n",
      "  warnings.warn(f\"A NumPy version >={np_minversion} and <{np_maxversion}\"\n"
     ]
    }
   ],
   "source": [
    "import pandas as pd\n",
    "import numpy as np\n",
    "from sklearn.neighbors import NearestNeighbors\n",
    "from sklearn.model_selection import train_test_split\n",
    "import matplotlib.pyplot as plt\n",
    "import seaborn as sns\n",
    "sns.set_theme()\n"
   ]
  },
  {
   "cell_type": "code",
   "execution_count": 2,
   "id": "13604e72",
   "metadata": {
    "ExecuteTime": {
     "end_time": "2022-12-12T06:49:34.809584Z",
     "start_time": "2022-12-12T06:49:34.782961Z"
    }
   },
   "outputs": [],
   "source": [
    "def load_data():\n",
    "    df_train = pd.read_csv(\"./titanic/train.csv\")\n",
    "    df_test = pd.read_csv(\"./titanic/test.csv\")\n",
    "    df = pd.concat([df_test,df_train])\n",
    "    return df"
   ]
  },
  {
   "cell_type": "code",
   "execution_count": 3,
   "id": "904fd210",
   "metadata": {
    "ExecuteTime": {
     "end_time": "2022-12-12T06:49:35.360486Z",
     "start_time": "2022-12-12T06:49:35.314778Z"
    }
   },
   "outputs": [
    {
     "data": {
      "text/plain": [
       "PassengerId       0\n",
       "Pclass            0\n",
       "Name              0\n",
       "Sex               0\n",
       "Age             263\n",
       "SibSp             0\n",
       "Parch             0\n",
       "Ticket            0\n",
       "Fare              1\n",
       "Cabin          1014\n",
       "Embarked          2\n",
       "Survived        418\n",
       "dtype: int64"
      ]
     },
     "execution_count": 3,
     "metadata": {},
     "output_type": "execute_result"
    }
   ],
   "source": [
    "df = load_data()\n",
    "df.isna().sum()"
   ]
  },
  {
   "cell_type": "code",
   "execution_count": 4,
   "id": "548348fc",
   "metadata": {
    "ExecuteTime": {
     "end_time": "2022-12-12T06:49:35.986765Z",
     "start_time": "2022-12-12T06:49:35.956626Z"
    }
   },
   "outputs": [
    {
     "data": {
      "text/plain": [
       "(Pclass      0\n",
       " Sex         0\n",
       " Age         0\n",
       " SibSp       0\n",
       " Parch       0\n",
       " Fare        0\n",
       " Embarked    0\n",
       " Survived    0\n",
       " dtype: int64,\n",
       " (712, 8))"
      ]
     },
     "execution_count": 4,
     "metadata": {},
     "output_type": "execute_result"
    }
   ],
   "source": [
    "df = df.drop(['PassengerId', 'Name', 'Cabin', 'Ticket'], axis=1)\n",
    "df = df[df['Survived'].notna()]\n",
    "df = df[df['Embarked'].notna()]\n",
    "df = df[df['Age'].notna()]\n",
    "df.isna().sum(), df.shape"
   ]
  },
  {
   "cell_type": "code",
   "execution_count": 5,
   "id": "18a7cf00",
   "metadata": {
    "ExecuteTime": {
     "end_time": "2022-12-12T06:49:36.676065Z",
     "start_time": "2022-12-12T06:49:36.644138Z"
    }
   },
   "outputs": [],
   "source": [
    "df[\"Sex\"] = pd.Categorical(df[\"Sex\"]).codes\n",
    "df[\"Embarked\"] = pd.Categorical(df[\"Embarked\"]).codes\n",
    "df[\"Fare\"] = (df[\"Fare\"]-df[\"Fare\"].mean())/df[\"Fare\"].std()"
   ]
  },
  {
   "cell_type": "code",
   "execution_count": 6,
   "id": "114e1061",
   "metadata": {
    "ExecuteTime": {
     "end_time": "2022-12-12T06:49:37.945749Z",
     "start_time": "2022-12-12T06:49:37.908341Z"
    }
   },
   "outputs": [
    {
     "data": {
      "text/html": [
       "<div>\n",
       "<style scoped>\n",
       "    .dataframe tbody tr th:only-of-type {\n",
       "        vertical-align: middle;\n",
       "    }\n",
       "\n",
       "    .dataframe tbody tr th {\n",
       "        vertical-align: top;\n",
       "    }\n",
       "\n",
       "    .dataframe thead th {\n",
       "        text-align: right;\n",
       "    }\n",
       "</style>\n",
       "<table border=\"1\" class=\"dataframe\">\n",
       "  <thead>\n",
       "    <tr style=\"text-align: right;\">\n",
       "      <th></th>\n",
       "      <th>Pclass</th>\n",
       "      <th>Sex</th>\n",
       "      <th>Age</th>\n",
       "      <th>SibSp</th>\n",
       "      <th>Parch</th>\n",
       "      <th>Fare</th>\n",
       "      <th>Embarked</th>\n",
       "      <th>Survived</th>\n",
       "    </tr>\n",
       "  </thead>\n",
       "  <tbody>\n",
       "    <tr>\n",
       "      <th>0</th>\n",
       "      <td>3</td>\n",
       "      <td>1</td>\n",
       "      <td>22.0</td>\n",
       "      <td>1</td>\n",
       "      <td>0</td>\n",
       "      <td>-0.516017</td>\n",
       "      <td>2</td>\n",
       "      <td>0.0</td>\n",
       "    </tr>\n",
       "    <tr>\n",
       "      <th>1</th>\n",
       "      <td>1</td>\n",
       "      <td>0</td>\n",
       "      <td>38.0</td>\n",
       "      <td>1</td>\n",
       "      <td>0</td>\n",
       "      <td>0.693558</td>\n",
       "      <td>0</td>\n",
       "      <td>1.0</td>\n",
       "    </tr>\n",
       "    <tr>\n",
       "      <th>2</th>\n",
       "      <td>3</td>\n",
       "      <td>0</td>\n",
       "      <td>26.0</td>\n",
       "      <td>0</td>\n",
       "      <td>0</td>\n",
       "      <td>-0.503267</td>\n",
       "      <td>2</td>\n",
       "      <td>1.0</td>\n",
       "    </tr>\n",
       "    <tr>\n",
       "      <th>3</th>\n",
       "      <td>1</td>\n",
       "      <td>0</td>\n",
       "      <td>35.0</td>\n",
       "      <td>1</td>\n",
       "      <td>0</td>\n",
       "      <td>0.350080</td>\n",
       "      <td>2</td>\n",
       "      <td>1.0</td>\n",
       "    </tr>\n",
       "    <tr>\n",
       "      <th>4</th>\n",
       "      <td>3</td>\n",
       "      <td>1</td>\n",
       "      <td>35.0</td>\n",
       "      <td>0</td>\n",
       "      <td>0</td>\n",
       "      <td>-0.500905</td>\n",
       "      <td>2</td>\n",
       "      <td>0.0</td>\n",
       "    </tr>\n",
       "    <tr>\n",
       "      <th>...</th>\n",
       "      <td>...</td>\n",
       "      <td>...</td>\n",
       "      <td>...</td>\n",
       "      <td>...</td>\n",
       "      <td>...</td>\n",
       "      <td>...</td>\n",
       "      <td>...</td>\n",
       "      <td>...</td>\n",
       "    </tr>\n",
       "    <tr>\n",
       "      <th>885</th>\n",
       "      <td>3</td>\n",
       "      <td>0</td>\n",
       "      <td>39.0</td>\n",
       "      <td>0</td>\n",
       "      <td>5</td>\n",
       "      <td>-0.102803</td>\n",
       "      <td>1</td>\n",
       "      <td>0.0</td>\n",
       "    </tr>\n",
       "    <tr>\n",
       "      <th>886</th>\n",
       "      <td>2</td>\n",
       "      <td>1</td>\n",
       "      <td>27.0</td>\n",
       "      <td>0</td>\n",
       "      <td>0</td>\n",
       "      <td>-0.407401</td>\n",
       "      <td>2</td>\n",
       "      <td>0.0</td>\n",
       "    </tr>\n",
       "    <tr>\n",
       "      <th>887</th>\n",
       "      <td>1</td>\n",
       "      <td>0</td>\n",
       "      <td>19.0</td>\n",
       "      <td>0</td>\n",
       "      <td>0</td>\n",
       "      <td>-0.086274</td>\n",
       "      <td>2</td>\n",
       "      <td>1.0</td>\n",
       "    </tr>\n",
       "    <tr>\n",
       "      <th>889</th>\n",
       "      <td>1</td>\n",
       "      <td>1</td>\n",
       "      <td>26.0</td>\n",
       "      <td>0</td>\n",
       "      <td>0</td>\n",
       "      <td>-0.086274</td>\n",
       "      <td>0</td>\n",
       "      <td>1.0</td>\n",
       "    </tr>\n",
       "    <tr>\n",
       "      <th>890</th>\n",
       "      <td>3</td>\n",
       "      <td>1</td>\n",
       "      <td>32.0</td>\n",
       "      <td>0</td>\n",
       "      <td>0</td>\n",
       "      <td>-0.506572</td>\n",
       "      <td>1</td>\n",
       "      <td>0.0</td>\n",
       "    </tr>\n",
       "  </tbody>\n",
       "</table>\n",
       "<p>712 rows × 8 columns</p>\n",
       "</div>"
      ],
      "text/plain": [
       "     Pclass  Sex   Age  SibSp  Parch      Fare  Embarked  Survived\n",
       "0         3    1  22.0      1      0 -0.516017         2       0.0\n",
       "1         1    0  38.0      1      0  0.693558         0       1.0\n",
       "2         3    0  26.0      0      0 -0.503267         2       1.0\n",
       "3         1    0  35.0      1      0  0.350080         2       1.0\n",
       "4         3    1  35.0      0      0 -0.500905         2       0.0\n",
       "..      ...  ...   ...    ...    ...       ...       ...       ...\n",
       "885       3    0  39.0      0      5 -0.102803         1       0.0\n",
       "886       2    1  27.0      0      0 -0.407401         2       0.0\n",
       "887       1    0  19.0      0      0 -0.086274         2       1.0\n",
       "889       1    1  26.0      0      0 -0.086274         0       1.0\n",
       "890       3    1  32.0      0      0 -0.506572         1       0.0\n",
       "\n",
       "[712 rows x 8 columns]"
      ]
     },
     "execution_count": 6,
     "metadata": {},
     "output_type": "execute_result"
    }
   ],
   "source": [
    "df"
   ]
  },
  {
   "cell_type": "code",
   "execution_count": 7,
   "id": "a2d6d07d",
   "metadata": {
    "ExecuteTime": {
     "end_time": "2022-12-12T06:49:39.037723Z",
     "start_time": "2022-12-12T06:49:38.994278Z"
    }
   },
   "outputs": [
    {
     "name": "stdout",
     "output_type": "stream",
     "text": [
      "0    469\n",
      "1    183\n",
      "2     25\n",
      "4     18\n",
      "3     12\n",
      "5      5\n",
      "Name: SibSp, dtype: int64\n",
      "3    355\n",
      "1    184\n",
      "2    173\n",
      "Name: Pclass, dtype: int64\n",
      "2    554\n",
      "0    130\n",
      "1     28\n",
      "Name: Embarked, dtype: int64\n",
      "0    519\n",
      "1    110\n",
      "2     68\n",
      "5      5\n",
      "3      5\n",
      "4      4\n",
      "6      1\n",
      "Name: Parch, dtype: int64\n"
     ]
    },
    {
     "data": {
      "text/html": [
       "<div>\n",
       "<style scoped>\n",
       "    .dataframe tbody tr th:only-of-type {\n",
       "        vertical-align: middle;\n",
       "    }\n",
       "\n",
       "    .dataframe tbody tr th {\n",
       "        vertical-align: top;\n",
       "    }\n",
       "\n",
       "    .dataframe thead th {\n",
       "        text-align: right;\n",
       "    }\n",
       "</style>\n",
       "<table border=\"1\" class=\"dataframe\">\n",
       "  <thead>\n",
       "    <tr style=\"text-align: right;\">\n",
       "      <th></th>\n",
       "      <th>Sex</th>\n",
       "      <th>Age</th>\n",
       "      <th>Fare</th>\n",
       "      <th>Survived</th>\n",
       "      <th>SibSp_0</th>\n",
       "      <th>SibSp_1</th>\n",
       "      <th>SibSp_2</th>\n",
       "      <th>SibSp_3</th>\n",
       "      <th>SibSp_4</th>\n",
       "      <th>SibSp_5</th>\n",
       "      <th>...</th>\n",
       "      <th>Embarked_0</th>\n",
       "      <th>Embarked_1</th>\n",
       "      <th>Embarked_2</th>\n",
       "      <th>Parch_0</th>\n",
       "      <th>Parch_1</th>\n",
       "      <th>Parch_2</th>\n",
       "      <th>Parch_3</th>\n",
       "      <th>Parch_4</th>\n",
       "      <th>Parch_5</th>\n",
       "      <th>Parch_6</th>\n",
       "    </tr>\n",
       "  </thead>\n",
       "  <tbody>\n",
       "    <tr>\n",
       "      <th>0</th>\n",
       "      <td>1</td>\n",
       "      <td>22.0</td>\n",
       "      <td>-0.516017</td>\n",
       "      <td>0.0</td>\n",
       "      <td>0</td>\n",
       "      <td>1</td>\n",
       "      <td>0</td>\n",
       "      <td>0</td>\n",
       "      <td>0</td>\n",
       "      <td>0</td>\n",
       "      <td>...</td>\n",
       "      <td>0</td>\n",
       "      <td>0</td>\n",
       "      <td>1</td>\n",
       "      <td>1</td>\n",
       "      <td>0</td>\n",
       "      <td>0</td>\n",
       "      <td>0</td>\n",
       "      <td>0</td>\n",
       "      <td>0</td>\n",
       "      <td>0</td>\n",
       "    </tr>\n",
       "    <tr>\n",
       "      <th>1</th>\n",
       "      <td>0</td>\n",
       "      <td>38.0</td>\n",
       "      <td>0.693558</td>\n",
       "      <td>1.0</td>\n",
       "      <td>0</td>\n",
       "      <td>1</td>\n",
       "      <td>0</td>\n",
       "      <td>0</td>\n",
       "      <td>0</td>\n",
       "      <td>0</td>\n",
       "      <td>...</td>\n",
       "      <td>1</td>\n",
       "      <td>0</td>\n",
       "      <td>0</td>\n",
       "      <td>1</td>\n",
       "      <td>0</td>\n",
       "      <td>0</td>\n",
       "      <td>0</td>\n",
       "      <td>0</td>\n",
       "      <td>0</td>\n",
       "      <td>0</td>\n",
       "    </tr>\n",
       "    <tr>\n",
       "      <th>2</th>\n",
       "      <td>0</td>\n",
       "      <td>26.0</td>\n",
       "      <td>-0.503267</td>\n",
       "      <td>1.0</td>\n",
       "      <td>1</td>\n",
       "      <td>0</td>\n",
       "      <td>0</td>\n",
       "      <td>0</td>\n",
       "      <td>0</td>\n",
       "      <td>0</td>\n",
       "      <td>...</td>\n",
       "      <td>0</td>\n",
       "      <td>0</td>\n",
       "      <td>1</td>\n",
       "      <td>1</td>\n",
       "      <td>0</td>\n",
       "      <td>0</td>\n",
       "      <td>0</td>\n",
       "      <td>0</td>\n",
       "      <td>0</td>\n",
       "      <td>0</td>\n",
       "    </tr>\n",
       "    <tr>\n",
       "      <th>3</th>\n",
       "      <td>0</td>\n",
       "      <td>35.0</td>\n",
       "      <td>0.350080</td>\n",
       "      <td>1.0</td>\n",
       "      <td>0</td>\n",
       "      <td>1</td>\n",
       "      <td>0</td>\n",
       "      <td>0</td>\n",
       "      <td>0</td>\n",
       "      <td>0</td>\n",
       "      <td>...</td>\n",
       "      <td>0</td>\n",
       "      <td>0</td>\n",
       "      <td>1</td>\n",
       "      <td>1</td>\n",
       "      <td>0</td>\n",
       "      <td>0</td>\n",
       "      <td>0</td>\n",
       "      <td>0</td>\n",
       "      <td>0</td>\n",
       "      <td>0</td>\n",
       "    </tr>\n",
       "    <tr>\n",
       "      <th>4</th>\n",
       "      <td>1</td>\n",
       "      <td>35.0</td>\n",
       "      <td>-0.500905</td>\n",
       "      <td>0.0</td>\n",
       "      <td>1</td>\n",
       "      <td>0</td>\n",
       "      <td>0</td>\n",
       "      <td>0</td>\n",
       "      <td>0</td>\n",
       "      <td>0</td>\n",
       "      <td>...</td>\n",
       "      <td>0</td>\n",
       "      <td>0</td>\n",
       "      <td>1</td>\n",
       "      <td>1</td>\n",
       "      <td>0</td>\n",
       "      <td>0</td>\n",
       "      <td>0</td>\n",
       "      <td>0</td>\n",
       "      <td>0</td>\n",
       "      <td>0</td>\n",
       "    </tr>\n",
       "  </tbody>\n",
       "</table>\n",
       "<p>5 rows × 23 columns</p>\n",
       "</div>"
      ],
      "text/plain": [
       "   Sex   Age      Fare  Survived  SibSp_0  SibSp_1  SibSp_2  SibSp_3  SibSp_4  \\\n",
       "0    1  22.0 -0.516017       0.0        0        1        0        0        0   \n",
       "1    0  38.0  0.693558       1.0        0        1        0        0        0   \n",
       "2    0  26.0 -0.503267       1.0        1        0        0        0        0   \n",
       "3    0  35.0  0.350080       1.0        0        1        0        0        0   \n",
       "4    1  35.0 -0.500905       0.0        1        0        0        0        0   \n",
       "\n",
       "   SibSp_5  ...  Embarked_0  Embarked_1  Embarked_2  Parch_0  Parch_1  \\\n",
       "0        0  ...           0           0           1        1        0   \n",
       "1        0  ...           1           0           0        1        0   \n",
       "2        0  ...           0           0           1        1        0   \n",
       "3        0  ...           0           0           1        1        0   \n",
       "4        0  ...           0           0           1        1        0   \n",
       "\n",
       "   Parch_2  Parch_3  Parch_4  Parch_5  Parch_6  \n",
       "0        0        0        0        0        0  \n",
       "1        0        0        0        0        0  \n",
       "2        0        0        0        0        0  \n",
       "3        0        0        0        0        0  \n",
       "4        0        0        0        0        0  \n",
       "\n",
       "[5 rows x 23 columns]"
      ]
     },
     "execution_count": 7,
     "metadata": {},
     "output_type": "execute_result"
    }
   ],
   "source": [
    "columns_to_categorical = [\"SibSp\", \"Pclass\", \"Embarked\",\"Parch\"]\n",
    "for col_name in columns_to_categorical:\n",
    "    print(df[col_name].value_counts())\n",
    "    df = pd.concat([df, pd.get_dummies(df[col_name],prefix=col_name)],axis=1)\n",
    "    df = df.drop(col_name, axis=1)\n",
    "df.head()"
   ]
  },
  {
   "cell_type": "code",
   "execution_count": 8,
   "id": "675362ec",
   "metadata": {
    "ExecuteTime": {
     "end_time": "2022-12-12T06:49:41.177543Z",
     "start_time": "2022-12-12T06:49:41.159797Z"
    }
   },
   "outputs": [],
   "source": [
    "X = df.drop(\"Age\",axis=1)\n",
    "y = df[\"Age\"]\n",
    "X_train, X_test, y_train, y_test = train_test_split(X, y, test_size=0.1, random_state=42)"
   ]
  },
  {
   "cell_type": "code",
   "execution_count": 9,
   "id": "7c8be682",
   "metadata": {
    "ExecuteTime": {
     "end_time": "2022-12-12T06:49:42.013638Z",
     "start_time": "2022-12-12T06:49:41.796768Z"
    }
   },
   "outputs": [
    {
     "data": {
      "text/plain": [
       "<AxesSubplot:>"
      ]
     },
     "execution_count": 9,
     "metadata": {},
     "output_type": "execute_result"
    },
    {
     "data": {
      "image/png": "[encoded data removed]",
      "text/plain": [
       "<Figure size 432x288 with 1 Axes>"
      ]
     },
     "metadata": {
      "needs_background": "light"
     },
     "output_type": "display_data"
    }
   ],
   "source": [
    "y_train.hist()"
   ]
  },
  {
   "cell_type": "code",
   "execution_count": 10,
   "id": "46cba035",
   "metadata": {
    "ExecuteTime": {
     "end_time": "2022-12-12T06:49:42.641660Z",
     "start_time": "2022-12-12T06:49:42.611216Z"
    }
   },
   "outputs": [],
   "source": [
    "def knn_example(nbrs, smaple_index):\n",
    "    sample = X_test.iloc[smaple_index].values\n",
    "    distances, indices = nbrs.kneighbors(np.expand_dims(sample, axis=0))\n",
    "    pd.Series(y_train.iloc[indices[0,:]]).hist()\n",
    "    print(y_test.iloc[smaple_index])\n",
    "    return distances, indices\n",
    "\n",
    "def knn_predict(model, X_test, mistake_thr=10):\n",
    "    mean_pred = []\n",
    "    median_pred = []\n",
    "    mode_pred = []\n",
    "    for neg_indcies in indices:\n",
    "        age_neighbors = y_train.iloc[neg_indcies]\n",
    "        mean_pred.append(int(age_neighbors.mean()))\n",
    "        median_pred.append(int(age_neighbors.median()))\n",
    "        mode_pred.append(int(age_neighbors.mode()[0]))\n",
    "    real_res = y_test.values.astype(int)\n",
    "    f, (ax1, ax2, ax3) = plt.subplots(1, 3, figsize=(16,7))\n",
    "    mean_pred_dist = np.abs(mean_pred-real_res)\n",
    "    ax1.hist(mean_pred_dist)\n",
    "    ax1.set_title(\"KNN - Mean Prediction Diffrences\")\n",
    "    median_pred_dist = np.abs(median_pred-real_res)\n",
    "    ax2.hist(np.abs(median_pred-real_res))\n",
    "    ax2.set_title(\"KNN - Median Prediction Diffrences\")\n",
    "    mode_pred_dist = np.abs(mode_pred-real_res)\n",
    "    ax3.hist(mode_pred_dist)\n",
    "    ax2.set_title(\"KNN - Mode Prediction Diffrences\")\n",
    "    plt.show()\n",
    "    print(f\"Mean Accuracy: {(mean_pred_dist > mistake_thr).sum() / len(mean_pred)}\")\n",
    "    print(f\"Median Accuracy: {(median_pred_dist > mistake_thr).sum() / len(mean_pred)}\")\n",
    "    print(f\"Mode Accuracy: {(mode_pred_dist > mistake_thr).sum() / len(mean_pred)}\")\n",
    "    return mean_pred, median_pred, mode_pred"
   ]
  },
  {
   "cell_type": "code",
   "execution_count": 11,
   "id": "80e632ec",
   "metadata": {
    "ExecuteTime": {
     "end_time": "2022-12-12T06:49:43.802091Z",
     "start_time": "2022-12-12T06:49:43.643791Z"
    }
   },
   "outputs": [
    {
     "name": "stdout",
     "output_type": "stream",
     "text": [
      "34.0\n"
     ]
    },
    {
     "name": "stderr",
     "output_type": "stream",
     "text": [
      "/Users/yosefdanan/opt/anaconda3/lib/python3.9/site-packages/sklearn/base.py:450: UserWarning: X does not have valid feature names, but NearestNeighbors was fitted with feature names\n",
      "  warnings.warn(\n"
     ]
    },
    {
     "data": {
      "image/png": "[encoded data removed]",
      "text/plain": [
       "<Figure size 432x288 with 1 Axes>"
      ]
     },
     "metadata": {
      "needs_background": "light"
     },
     "output_type": "display_data"
    }
   ],
   "source": [
    "k=30\n",
    "model = NearestNeighbors(n_neighbors=k, algorithm='ball_tree', metric='euclidean').fit(X_train)\n",
    "distances, indices = knn_example(model,smaple_index=50)"
   ]
  },
  {
   "cell_type": "code",
   "execution_count": 12,
   "id": "3bf7a57d",
   "metadata": {
    "ExecuteTime": {
     "end_time": "2022-12-12T06:49:45.642182Z",
     "start_time": "2022-12-12T06:49:45.364128Z"
    }
   },
   "outputs": [
    {
     "data": {
      "image/png": "[encoded data removed]",
      "text/plain": [
       "<Figure size 1152x504 with 3 Axes>"
      ]
     },
     "metadata": {
      "needs_background": "light"
     },
     "output_type": "display_data"
    },
    {
     "name": "stdout",
     "output_type": "stream",
     "text": [
      "Mean Accuracy: 0.5277777777777778\n",
      "Median Accuracy: 0.5138888888888888\n",
      "Mode Accuracy: 0.4583333333333333\n"
     ]
    }
   ],
   "source": [
    "distances, indices = model.kneighbors(X_test)\n",
    "mean_pred, median_pred, mode_pred = knn_predict(distances, indices)"
   ]
  },
  {
   "cell_type": "code",
   "execution_count": 13,
   "id": "1acdfba0",
   "metadata": {
    "ExecuteTime": {
     "end_time": "2022-12-12T06:49:46.074931Z",
     "start_time": "2022-12-12T06:49:46.052406Z"
    }
   },
   "outputs": [],
   "source": [
    "probs = y_train.value_counts() / len(y_train)\n",
    "random_pred = [np.random.choice(probs.index, p=probs.values) for _ in range(y_test.size)]"
   ]
  },
  {
   "cell_type": "code",
   "execution_count": 21,
   "id": "3788d658",
   "metadata": {
    "ExecuteTime": {
     "end_time": "2022-12-12T06:52:42.283473Z",
     "start_time": "2022-12-12T06:52:42.265803Z"
    }
   },
   "outputs": [],
   "source": [
    "def plot_distances_over_knn_result(neighbres_indices, y_indcies):\n",
    "    f, axs = plt.subplots(y_indcies.size,2, figsize=(16,16))\n",
    "    for i, (ne_index, y_index) in enumerate(zip(neighbres_indices, y_indcies)):\n",
    "        ax = axs[i][0]\n",
    "        ax.hist(y_train.iloc[ne_index],alpha=0.5, label='x')\n",
    "        ax.axvline(x=y_test.iloc[y_index], color=\"red\")\n",
    "        ax.axvline(x=mean_pred[y_index], color=\"green\")\n",
    "        ax.axvline(x=mode_pred[y_index], color=\"yellow\")\n",
    "        ax.axvline(x=median_pred[y_index], color=\"black\")\n",
    "        ax.axvline(x=random_pred[y_index], color=\"purple\")\n",
    "        sum_distances = dict()\n",
    "        for age in y_train.unique():\n",
    "            ne_dist = distances[np.where(y_train.iloc[ne_index] == age),:]\n",
    "            curr_sum = np.square(ne_dist).sum()\n",
    "            if ne_dist.size > 0:\n",
    "                sum_distances[age] = curr_sum / ne_dist.size\n",
    "        axs[i][1].scatter(sum_distances.keys(),sum_distances.values(),alpha=0.5, label='y', color=\"black\")\n",
    "        axs[i][1].axvline(x=y_test.iloc[y_index], color=\"red\")      \n",
    "    f.legend([\"Ages\",'True', 'Mean',\"Mode\" ,\"Median\", \"Random\"])"
   ]
  },
  {
   "cell_type": "code",
   "execution_count": 22,
   "id": "754eea4f",
   "metadata": {
    "ExecuteTime": {
     "end_time": "2022-12-12T06:52:44.111498Z",
     "start_time": "2022-12-12T06:52:42.921502Z"
    }
   },
   "outputs": [
    {
     "data": {
      "image/png": "[encoded data removed]",
      "text/plain": [
       "<Figure size 1152x1152 with 12 Axes>"
      ]
     },
     "metadata": {
      "needs_background": "light"
     },
     "output_type": "display_data"
    }
   ],
   "source": [
    "examples_number=6\n",
    "thrshold = 10\n",
    "mean_pred_dist = np.abs(mean_pred-y_test.values.astype(int))\n",
    "neighbres_indices = indices[mean_pred_dist <= thrshold, :][:examples_number]\n",
    "y_indcies = np.where(mean_pred_dist <= thrshold)[0][:examples_number]\n",
    "plot_distances_over_knn_result(neighbres_indices, y_indcies)"
   ]
  },
  {
   "cell_type": "code",
   "execution_count": 23,
   "id": "14bca74e",
   "metadata": {
    "ExecuteTime": {
     "end_time": "2022-12-12T06:52:48.328170Z",
     "start_time": "2022-12-12T06:52:47.130845Z"
    }
   },
   "outputs": [
    {
     "data": {
      "image/png": "[encoded data removed]",
      "text/plain": [
       "<Figure size 1152x1152 with 12 Axes>"
      ]
     },
     "metadata": {
      "needs_background": "light"
     },
     "output_type": "display_data"
    }
   ],
   "source": [
    "examples_number=6\n",
    "thrshold = 20\n",
    "mean_pred_dist = np.abs(mean_pred-y_test.values.astype(int))\n",
    "neighbres_indices = indices[mean_pred_dist > thrshold, :][:examples_number]\n",
    "y_indcies = np.where(mean_pred_dist > thrshold)[0][:examples_number]\n",
    "plot_distances_over_knn_result(neighbres_indices, y_indcies)"
   ]
  },
  {
   "cell_type": "markdown",
   "id": "681f1384",
   "metadata": {},
   "source": [
    "### add evalution by svm"
   ]
  },
  {
   "cell_type": "code",
   "execution_count": null,
   "id": "845036d6",
   "metadata": {},
   "outputs": [],
   "source": []
  },
  {
   "cell_type": "markdown",
   "id": "2d8ffd94",
   "metadata": {},
   "source": [
    "### Try MLP"
   ]
  },
  {
   "cell_type": "code",
   "execution_count": null,
   "id": "dbf8dfa6",
   "metadata": {},
   "outputs": [],
   "source": []
  },
  {
   "cell_type": "code",
   "execution_count": null,
   "id": "943aab42",
   "metadata": {},
   "outputs": [],
   "source": []
  },
  {
   "cell_type": "markdown",
   "id": "02ec777a",
   "metadata": {},
   "source": [
    "## Use Stat to get the distrabution\n",
    "\n",
    "- dicide which feature to work with - perfer categorical"
   ]
  },
  {
   "cell_type": "code",
   "execution_count": 24,
   "id": "1e268fd1",
   "metadata": {
    "ExecuteTime": {
     "end_time": "2022-12-12T07:04:22.059882Z",
     "start_time": "2022-12-12T07:04:22.035439Z"
    }
   },
   "outputs": [],
   "source": [
    "import scipy.stats as st\n",
    "def get_best_distribution(data):\n",
    "    dist_names = [\"norm\", \"exponweib\", \"weibull_max\", \"weibull_min\", \"pareto\", \"genextreme\"]\n",
    "    dist_results = []\n",
    "    params = {}\n",
    "    for dist_name in dist_names:\n",
    "        dist = getattr(st, dist_name)\n",
    "        param = dist.fit(data)\n",
    "\n",
    "        params[dist_name] = param\n",
    "        # Applying the Kolmogorov-Smirnov test\n",
    "        D, p = st.kstest(data, dist_name, args=param)\n",
    "        print(\"p value for \"+dist_name+\" = \"+str(p))\n",
    "        dist_results.append((dist_name, p))\n",
    "\n",
    "    # select the best fitted distribution\n",
    "    best_dist, best_p = (max(dist_results, key=lambda item: item[1]))\n",
    "    # store the name of the best fit and its p value\n",
    "\n",
    "    print(\"Best fitting distribution: \"+str(best_dist))\n",
    "    print(\"Best p value: \"+ str(best_p))\n",
    "    print(\"Parameters for the best fit: \"+ str(params[best_dist]))\n",
    "\n",
    "    return best_dist, best_p, params[best_dist]"
   ]
  },
  {
   "cell_type": "code",
   "execution_count": 26,
   "id": "c2d0f895",
   "metadata": {
    "ExecuteTime": {
     "end_time": "2022-12-12T07:04:50.931226Z",
     "start_time": "2022-12-12T07:04:50.557568Z"
    }
   },
   "outputs": [
    {
     "name": "stdout",
     "output_type": "stream",
     "text": [
      "p value for norm = 0.007641010644133528\n",
      "p value for exponweib = 1.5909596268062747e-233\n",
      "p value for weibull_max = 0.018215486845721725\n"
     ]
    },
    {
     "name": "stderr",
     "output_type": "stream",
     "text": [
      "/Users/yosefdanan/opt/anaconda3/lib/python3.9/site-packages/scipy/stats/_continuous_distns.py:1726: RuntimeWarning: invalid value encountered in add\n",
      "  logp = (np.log(a) + np.log(c) + sc.xlogy(a - 1.0, exm1c) +\n",
      "/Users/yosefdanan/opt/anaconda3/lib/python3.9/site-packages/scipy/stats/_distn_infrastructure.py:2606: RuntimeWarning: invalid value encountered in multiply\n",
      "  Lhat = muhat - Shat*mu\n"
     ]
    },
    {
     "name": "stdout",
     "output_type": "stream",
     "text": [
      "p value for weibull_min = 0.0\n",
      "p value for pareto = 7.888373474824522e-61\n",
      "p value for genextreme = 0.018213706247392207\n",
      "Best fitting distribution: weibull_max\n",
      "Best p value: 0.018215486845721725\n",
      "Parameters for the best fit: (6.134164959589137, 105.26233886451362, 81.23039614280934)\n"
     ]
    },
    {
     "data": {
      "text/plain": [
       "('weibull_max',\n",
       " 0.018215486845721725,\n",
       " (6.134164959589137, 105.26233886451362, 81.23039614280934))"
      ]
     },
     "execution_count": 26,
     "metadata": {},
     "output_type": "execute_result"
    }
   ],
   "source": [
    "get_best_distribution(y_train)"
   ]
  },
  {
   "cell_type": "code",
   "execution_count": 33,
   "id": "63fa61a4",
   "metadata": {
    "ExecuteTime": {
     "end_time": "2022-12-12T07:09:54.176650Z",
     "start_time": "2022-12-12T07:09:54.126182Z"
    }
   },
   "outputs": [
    {
     "ename": "ValueError",
     "evalue": "size does not match the broadcast shape of the parameters. (1000, 1), (1000, 1), (1, 3)",
     "output_type": "error",
     "traceback": [
      "\u001b[0;31m---------------------------------------------------------------------------\u001b[0m",
      "\u001b[0;31mValueError\u001b[0m                                Traceback (most recent call last)",
      "Input \u001b[0;32mIn [33]\u001b[0m, in \u001b[0;36m<cell line: 1>\u001b[0;34m()\u001b[0m\n\u001b[0;32m----> 1\u001b[0m r \u001b[38;5;241m=\u001b[39m \u001b[43mweibull_max\u001b[49m\u001b[38;5;241;43m.\u001b[39;49m\u001b[43mrvs\u001b[49m\u001b[43m(\u001b[49m\u001b[43m(\u001b[49m\u001b[38;5;241;43m6.134164959589137\u001b[39;49m\u001b[43m,\u001b[49m\u001b[43m \u001b[49m\u001b[38;5;241;43m105.26233886451362\u001b[39;49m\u001b[43m,\u001b[49m\u001b[43m \u001b[49m\u001b[38;5;241;43m81.23039614280934\u001b[39;49m\u001b[43m)\u001b[49m\u001b[43m,\u001b[49m\u001b[43m \u001b[49m\u001b[43msize\u001b[49m\u001b[38;5;241;43m=\u001b[39;49m\u001b[43m(\u001b[49m\u001b[38;5;241;43m1000\u001b[39;49m\u001b[43m,\u001b[49m\u001b[38;5;241;43m1\u001b[39;49m\u001b[43m)\u001b[49m\u001b[43m)\u001b[49m\n",
      "File \u001b[0;32m~/opt/anaconda3/lib/python3.9/site-packages/scipy/stats/_distn_infrastructure.py:1064\u001b[0m, in \u001b[0;36mrv_generic.rvs\u001b[0;34m(self, *args, **kwds)\u001b[0m\n\u001b[1;32m   1062\u001b[0m discrete \u001b[38;5;241m=\u001b[39m kwds\u001b[38;5;241m.\u001b[39mpop(\u001b[38;5;124m'\u001b[39m\u001b[38;5;124mdiscrete\u001b[39m\u001b[38;5;124m'\u001b[39m, \u001b[38;5;28;01mNone\u001b[39;00m)\n\u001b[1;32m   1063\u001b[0m rndm \u001b[38;5;241m=\u001b[39m kwds\u001b[38;5;241m.\u001b[39mpop(\u001b[38;5;124m'\u001b[39m\u001b[38;5;124mrandom_state\u001b[39m\u001b[38;5;124m'\u001b[39m, \u001b[38;5;28;01mNone\u001b[39;00m)\n\u001b[0;32m-> 1064\u001b[0m args, loc, scale, size \u001b[38;5;241m=\u001b[39m \u001b[38;5;28;43mself\u001b[39;49m\u001b[38;5;241;43m.\u001b[39;49m\u001b[43m_parse_args_rvs\u001b[49m\u001b[43m(\u001b[49m\u001b[38;5;241;43m*\u001b[39;49m\u001b[43margs\u001b[49m\u001b[43m,\u001b[49m\u001b[43m \u001b[49m\u001b[38;5;241;43m*\u001b[39;49m\u001b[38;5;241;43m*\u001b[39;49m\u001b[43mkwds\u001b[49m\u001b[43m)\u001b[49m\n\u001b[1;32m   1065\u001b[0m cond \u001b[38;5;241m=\u001b[39m logical_and(\u001b[38;5;28mself\u001b[39m\u001b[38;5;241m.\u001b[39m_argcheck(\u001b[38;5;241m*\u001b[39margs), (scale \u001b[38;5;241m>\u001b[39m\u001b[38;5;241m=\u001b[39m \u001b[38;5;241m0\u001b[39m))\n\u001b[1;32m   1066\u001b[0m \u001b[38;5;28;01mif\u001b[39;00m \u001b[38;5;129;01mnot\u001b[39;00m np\u001b[38;5;241m.\u001b[39mall(cond):\n",
      "File \u001b[0;32m<string>:6\u001b[0m, in \u001b[0;36m_parse_args_rvs\u001b[0;34m(self, c, loc, scale, size)\u001b[0m\n",
      "File \u001b[0;32m~/opt/anaconda3/lib/python3.9/site-packages/scipy/stats/_distn_infrastructure.py:945\u001b[0m, in \u001b[0;36mrv_generic._argcheck_rvs\u001b[0;34m(self, *args, **kwargs)\u001b[0m\n\u001b[1;32m    942\u001b[0m ok \u001b[38;5;241m=\u001b[39m \u001b[38;5;28mall\u001b[39m([bcdim \u001b[38;5;241m==\u001b[39m \u001b[38;5;241m1\u001b[39m \u001b[38;5;129;01mor\u001b[39;00m bcdim \u001b[38;5;241m==\u001b[39m szdim\n\u001b[1;32m    943\u001b[0m           \u001b[38;5;28;01mfor\u001b[39;00m (bcdim, szdim) \u001b[38;5;129;01min\u001b[39;00m \u001b[38;5;28mzip\u001b[39m(bcast_shape, size_)])\n\u001b[1;32m    944\u001b[0m \u001b[38;5;28;01mif\u001b[39;00m \u001b[38;5;129;01mnot\u001b[39;00m ok:\n\u001b[0;32m--> 945\u001b[0m     \u001b[38;5;28;01mraise\u001b[39;00m \u001b[38;5;167;01mValueError\u001b[39;00m(\u001b[38;5;124m\"\u001b[39m\u001b[38;5;124msize does not match the broadcast shape of \u001b[39m\u001b[38;5;124m\"\u001b[39m\n\u001b[1;32m    946\u001b[0m                      \u001b[38;5;124m\"\u001b[39m\u001b[38;5;124mthe parameters. \u001b[39m\u001b[38;5;132;01m%s\u001b[39;00m\u001b[38;5;124m, \u001b[39m\u001b[38;5;132;01m%s\u001b[39;00m\u001b[38;5;124m, \u001b[39m\u001b[38;5;132;01m%s\u001b[39;00m\u001b[38;5;124m\"\u001b[39m \u001b[38;5;241m%\u001b[39m (size, size_,\n\u001b[1;32m    947\u001b[0m                                                      bcast_shape))\n\u001b[1;32m    949\u001b[0m param_bcast \u001b[38;5;241m=\u001b[39m all_bcast[:\u001b[38;5;241m-\u001b[39m\u001b[38;5;241m2\u001b[39m]\n\u001b[1;32m    950\u001b[0m loc_bcast \u001b[38;5;241m=\u001b[39m all_bcast[\u001b[38;5;241m-\u001b[39m\u001b[38;5;241m2\u001b[39m]\n",
      "\u001b[0;31mValueError\u001b[0m: size does not match the broadcast shape of the parameters. (1000, 1), (1000, 1), (1, 3)"
     ]
    }
   ],
   "source": [
    "r = weibull_max.rvs((6.134164959589137, 105.26233886451362, 81.23039614280934), size=(1000,1))"
   ]
  },
  {
   "cell_type": "code",
   "execution_count": 418,
   "id": "45222163",
   "metadata": {
    "ExecuteTime": {
     "end_time": "2022-12-09T13:19:48.906582Z",
     "start_time": "2022-12-09T13:19:48.902428Z"
    }
   },
   "outputs": [],
   "source": []
  },
  {
   "cell_type": "markdown",
   "id": "3d957c54",
   "metadata": {},
   "source": [
    "## Make missing rate of 10%\n"
   ]
  },
  {
   "cell_type": "code",
   "execution_count": null,
   "id": "d199f0d0",
   "metadata": {},
   "outputs": [],
   "source": []
  },
  {
   "cell_type": "markdown",
   "id": "844c6977",
   "metadata": {},
   "source": [
    "## Fill with mean and see the effect of the distrabution"
   ]
  },
  {
   "cell_type": "code",
   "execution_count": null,
   "id": "d9fd1c57",
   "metadata": {},
   "outputs": [],
   "source": []
  },
  {
   "cell_type": "markdown",
   "id": "9d192a7a",
   "metadata": {},
   "source": [
    "## Fill with simple knn"
   ]
  },
  {
   "cell_type": "code",
   "execution_count": null,
   "id": "1c755c28",
   "metadata": {},
   "outputs": [],
   "source": []
  },
  {
   "cell_type": "markdown",
   "id": "ad26944e",
   "metadata": {},
   "source": [
    "## KNN with our approch of using the 90% distrabution"
   ]
  },
  {
   "cell_type": "code",
   "execution_count": null,
   "id": "c2f5ce2a",
   "metadata": {},
   "outputs": [],
   "source": []
  },
  {
   "cell_type": "code",
   "execution_count": null,
   "id": "fedba271",
   "metadata": {},
   "outputs": [],
   "source": []
  },
  {
   "cell_type": "markdown",
   "id": "f4f93ddb",
   "metadata": {},
   "source": [
    "## Notes - evalution\n",
    "\n",
    "- for categorical it's easy use perscion,recall,accuracy\n",
    "- for numerical use mean squred error in compare to other result"
   ]
  },
  {
   "cell_type": "markdown",
   "id": "e901dadf",
   "metadata": {},
   "source": [
    "## Make missing rate of 20%"
   ]
  },
  {
   "cell_type": "code",
   "execution_count": null,
   "id": "e1a699c0",
   "metadata": {},
   "outputs": [],
   "source": []
  }
 ],
 "metadata": {
  "kernelspec": {
   "display_name": "Python 3 (ipykernel)",
   "language": "python",
   "name": "python3"
  },
  "language_info": {
   "codemirror_mode": {
    "name": "ipython",
    "version": 3
   },
   "file_extension": ".py",
   "mimetype": "text/x-python",
   "name": "python",
   "nbconvert_exporter": "python",
   "pygments_lexer": "ipython3",
   "version": "3.9.12"
  }
 },
 "nbformat": 4,
 "nbformat_minor": 5
}
