{
 "cells": [
  {
   "cell_type": "code",
   "execution_count": 154,
   "id": "05825405",
   "metadata": {
    "ExecuteTime": {
     "end_time": "2023-01-14T12:25:10.301722Z",
     "start_time": "2023-01-14T12:25:10.293900Z"
    }
   },
   "outputs": [],
   "source": [
    "import pandas as pd\n",
    "import numpy as np\n",
    "from sklearn.neighbors import NearestNeighbors\n",
    "from sklearn.model_selection import train_test_split\n",
    "import matplotlib.pyplot as plt\n",
    "import seaborn as sns\n",
    "from sklearn.linear_model import LinearRegression\n",
    "from sklearn.model_selection import train_test_split\n",
    "from sklearn.preprocessing import MinMaxScaler\n",
    "from sklearn.preprocessing import RobustScaler\n",
    "\n",
    "sns.set_theme()\n"
   ]
  },
  {
   "cell_type": "code",
   "execution_count": 193,
   "id": "79d5eef6",
   "metadata": {
    "ExecuteTime": {
     "end_time": "2023-01-14T12:51:09.820755Z",
     "start_time": "2023-01-14T12:51:09.767217Z"
    }
   },
   "outputs": [],
   "source": [
    "df = pd.read_csv(\"house_pricing/train.csv\")\n",
    "y = df[\"SalePrice\"]\n",
    "X = df.drop([\"SalePrice\", \"Id\"],axis=1)\n",
    "nan_count = X.isna().sum()/X.shape[0]\n",
    "# np.percentile(nan_count,95)\n",
    "# X = X[X.columns[nan_count < 0.9]]\n",
    "very_num_cols = X._get_numeric_data().columns\n",
    "categorical_cols = list(set(X.columns) - set(very_num_cols))\n",
    "# X = X.drop(s[s].index, axis=1)\n",
    "X = pd.get_dummies(X, columns=categorical_cols)\n",
    "X_train, X_test, y_train, y_test = train_test_split(X, y, test_size=0.33, random_state=42)"
   ]
  },
  {
   "cell_type": "code",
   "execution_count": null,
   "id": "9af1168e",
   "metadata": {},
   "outputs": [],
   "source": []
  },
  {
   "cell_type": "code",
   "execution_count": 188,
   "id": "4416f1ca",
   "metadata": {
    "ExecuteTime": {
     "end_time": "2023-01-14T12:50:33.602792Z",
     "start_time": "2023-01-14T12:50:33.517627Z"
    }
   },
   "outputs": [
    {
     "data": {
      "text/plain": [
       "<AxesSubplot:>"
      ]
     },
     "execution_count": 188,
     "metadata": {},
     "output_type": "execute_result"
    },
    {
     "data": {
      "image/png": "[encoded data removed]",
      "text/plain": [
       "<Figure size 432x288 with 1 Axes>"
      ]
     },
     "metadata": {},
     "output_type": "display_data"
    }
   ],
   "source": [
    "X[X.columns[X.isna().sum() > 0]].isna().sum().plot(kind='bar')"
   ]
  },
  {
   "cell_type": "code",
   "execution_count": 189,
   "id": "694a96cc",
   "metadata": {
    "ExecuteTime": {
     "end_time": "2023-01-14T12:50:44.254489Z",
     "start_time": "2023-01-14T12:50:44.129171Z"
    }
   },
   "outputs": [],
   "source": [
    "from sklearn.impute import KNNImputer\n",
    "imputer = KNNImputer(n_neighbors=10)\n",
    "imputer.fit(X_train)\n",
    "X_train = imputer.transform(X_train)\n",
    "X_test = imputer.transform(X_test)"
   ]
  },
  {
   "cell_type": "code",
   "execution_count": 190,
   "id": "4ffa59c2",
   "metadata": {
    "ExecuteTime": {
     "end_time": "2023-01-14T12:50:44.448012Z",
     "start_time": "2023-01-14T12:50:44.414035Z"
    }
   },
   "outputs": [],
   "source": [
    "scaler = RobustScaler()\n",
    "scaler.fit(X_train)\n",
    "X_train = scaler.transform(X_train)\n",
    "X_test = scaler.transform(X_test)"
   ]
  },
  {
   "cell_type": "code",
   "execution_count": 191,
   "id": "86a7593a",
   "metadata": {
    "ExecuteTime": {
     "end_time": "2023-01-14T12:50:44.986980Z",
     "start_time": "2023-01-14T12:50:44.832027Z"
    }
   },
   "outputs": [],
   "source": [
    "from sklearn import metrics\n",
    "model = LinearRegression()\n",
    "model.fit(X_train, y_train)\n",
    "y_pred = model.predict(X_test)"
   ]
  },
  {
   "cell_type": "code",
   "execution_count": 192,
   "id": "5d4e0b9c",
   "metadata": {
    "ExecuteTime": {
     "end_time": "2023-01-14T12:50:45.389570Z",
     "start_time": "2023-01-14T12:50:45.386842Z"
    }
   },
   "outputs": [
    {
     "name": "stdout",
     "output_type": "stream",
     "text": [
      "-60835805282.97668\n",
      "4.466194553264886e+20\n"
     ]
    }
   ],
   "source": [
    "print(metrics.r2_score(y_test, y_pred))\n",
    "print(metrics.mean_squared_error(y_test, y_pred))"
   ]
  },
  {
   "cell_type": "code",
   "execution_count": null,
   "id": "53fe6c12",
   "metadata": {},
   "outputs": [],
   "source": []
  }
 ],
 "metadata": {
  "kernelspec": {
   "display_name": "Python 3 (ipykernel)",
   "language": "python",
   "name": "python3"
  },
  "language_info": {
   "codemirror_mode": {
    "name": "ipython",
    "version": 3
   },
   "file_extension": ".py",
   "mimetype": "text/x-python",
   "name": "python",
   "nbconvert_exporter": "python",
   "pygments_lexer": "ipython3",
   "version": "3.9.12"
  }
 },
 "nbformat": 4,
 "nbformat_minor": 5
}
